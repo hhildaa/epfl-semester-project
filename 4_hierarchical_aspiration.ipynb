{
 "cells": [
  {
   "cell_type": "markdown",
   "metadata": {},
   "source": [
    "# Hierarchical clustering - migration aspiration"
   ]
  },
  {
   "cell_type": "markdown",
   "metadata": {},
   "source": [
    "#### Imports"
   ]
  },
  {
   "cell_type": "code",
   "execution_count": null,
   "metadata": {},
   "outputs": [],
   "source": [
    "import pandas as pd\n",
    "import pickle\n",
    "from tqdm import tqdm\n",
    "from sklearn import tree\n",
    "import os\n",
    "import math\n",
    "\n",
    "import hierarchical_help\n",
    "\n",
    "import warnings\n",
    "warnings.filterwarnings(\"ignore\")\n",
    "%load_ext autoreload\n",
    "%autoreload 2\n",
    "import pickle"
   ]
  },
  {
   "cell_type": "markdown",
   "metadata": {},
   "source": [
    "#### Reading the files"
   ]
  },
  {
   "cell_type": "code",
   "execution_count": null,
   "metadata": {},
   "outputs": [],
   "source": [
    "# reading the data\n",
    "source = \"gwp_data/prepared_aspiration/clean_data_from18to22\"\n",
    "df = pd.read_pickle(source)"
   ]
  },
  {
   "cell_type": "code",
   "execution_count": null,
   "metadata": {},
   "outputs": [],
   "source": [
    "source = \"meta/columns\"\n",
    "df_meta = pd.read_pickle(source)\n"
   ]
  },
  {
   "cell_type": "code",
   "execution_count": null,
   "metadata": {},
   "outputs": [],
   "source": [
    "# save the original dataframe to be able to recover the answers\n",
    "df_original = df.copy()\n",
    "df_original['WP1325: Move Permanently to Another Country'] = df_original['WP1325: Move Permanently to Another Country'] - 1\n",
    "df_original"
   ]
  },
  {
   "cell_type": "code",
   "execution_count": null,
   "metadata": {},
   "outputs": [],
   "source": [
    "with open('meta/countrynum_to_name_dict', 'rb') as fp:\n",
    "    countrynum_to_name_dict = pickle.load(fp)\n",
    "\n",
    "with open('meta/countrynum_to_ISO_dict.pickle', 'rb') as fp:\n",
    "    countrynum_to_ISO_dict = pickle.load(fp)"
   ]
  },
  {
   "cell_type": "markdown",
   "metadata": {},
   "source": [
    "#### Data preparation"
   ]
  },
  {
   "cell_type": "code",
   "execution_count": null,
   "metadata": {},
   "outputs": [],
   "source": [
    "# keep only predictive columns\n",
    "non_pred_columns = ['Region: Region',\\\n",
    "                    'YEAR_WAVE: Wave Year',\\\n",
    "                    'COUNTRY_ISO3: Country ISO alpha-3 code',\\\n",
    "                    'WP1325: Move Permanently to Another Country',\\\n",
    "                    'WP3120: Country Would Move To',\\\n",
    "                    'WP5889: Questionnaire Serial Number'   ]\n",
    "\n",
    "df = df.loc[:, ~df.columns.isin(non_pred_columns)]\n",
    "df['WP9048: Country Where Born'] = df['WP9048: Country Where Born']==df[\"WP5: Country\"]"
   ]
  },
  {
   "cell_type": "code",
   "execution_count": null,
   "metadata": {},
   "outputs": [],
   "source": [
    "yes_columns = []\n",
    "yn_columns = []\n",
    "ordinal_columns = []\n",
    "no_columns = []\n",
    "\n",
    "for col in df.columns:\n",
    "    l = list(df_meta[df_meta['column'].str.contains(col)][\"categorical?\"])\n",
    "    if len(l) !=0:\n",
    "        if \"yes\" in l[0]:\n",
    "            yes_columns.append(col)\n",
    "        if \"yn\" in l[0] :\n",
    "            yn_columns.append(col)\n",
    "        if \"ordinal\" in l[0] :\n",
    "            ordinal_columns.append(col)\n",
    "        if \"no\" in l[0] :\n",
    "            no_columns.append(col)"
   ]
  },
  {
   "cell_type": "code",
   "execution_count": null,
   "metadata": {},
   "outputs": [],
   "source": [
    "countries = df[\"WP5: Country\"].unique()"
   ]
  },
  {
   "cell_type": "code",
   "execution_count": null,
   "metadata": {},
   "outputs": [],
   "source": [
    "cat_columns = set(yn_columns + yes_columns).intersection(df.columns)\n",
    "cat_columns = cat_columns.difference(set('WP1325: Move Permanently to Another Country')).intersection(df.columns)\n",
    "df = pd.get_dummies(df, columns = cat_columns, prefix=cat_columns)\n",
    "df[\"WP5: Country\"] = df_original[\"WP5: Country\"]"
   ]
  },
  {
   "cell_type": "code",
   "execution_count": null,
   "metadata": {},
   "outputs": [],
   "source": [
    "depth = [4, 6, 8, 10, 12]"
   ]
  },
  {
   "cell_type": "code",
   "execution_count": null,
   "metadata": {},
   "outputs": [],
   "source": [
    "# initalize country to df dictionary\n",
    "if os.path.exists(\"gwp_data/prepared_hierarchical/country_df_dict.p\")==False:\n",
    "    country_df_dict = hierarchical_help.create_country_df_dict(countries, df)\n",
    "    pickle.dump(country_df_dict, open(\"gwp_data/prepared_hierarchical/country_df_dict.p\", \"wb\"))\n",
    "else:\n",
    "    country_df_dict = pickle.load(open(\"gwp_data/prepared_hierarchical/country_df_dict.p\", \"rb\"))\n",
    "\n",
    "# initalize clusters with standalone countries\n",
    "if os.path.exists(\"gwp_data/prepared_hierarchical/init_clusters.p\")==False:\n",
    "    init_clusters = hierarchical_help.init_clusters(countries)\n",
    "    pickle.dump(init_clusters, open(\"gwp_data/prepared_hierarchical/init_clusters.p\", \"wb\"))\n",
    "else:\n",
    "    init_clusters = pickle.load(open(\"gwp_data/prepared_hierarchical/init_clusters.p\", \"rb\"))\n",
    "\n",
    "for depth in depth:\n",
    "\n",
    "    if os.path.exists(f\"gwp_data/prepared_hierarchical/country_tree_dict_depth{depth}.p\")==False:\n",
    "        country_tree_dict = hierarchical_help.create_country_tree_dict(countries, df_original, country_df_dict, depth)\n",
    "        pickle.dump(country_tree_dict, open(f\"gwp_data/prepared_hierarchical/country_tree_dict_depth{depth}.p\", \"wb\"))\n",
    "    \n",
    "    if os.path.exists(f\"gwp_data/prepared_hierarchical/dist_dict_depth{depth}.p\")==False and os.path.exists(f\"gwp_data/prepared_hierarchical/name_to_list_depth{depth}.p\")==False:\n",
    "        dist_dict, name_to_list = hierarchical_help.init_distances(init_clusters, country_df_dict, country_tree_dict, df_original)\n",
    "        pickle.dump(dist_dict, open(f\"gwp_data/prepared_hierarchical/dist_dict_depth{depth}.p\", \"wb\"))\n",
    "        pickle.dump(name_to_list, open(f\"gwp_data/prepared_hierarchical/name_to_list_depth{depth}.p\", \"wb\"))\n",
    "    "
   ]
  },
  {
   "cell_type": "markdown",
   "metadata": {},
   "source": [
    "#### Clustering"
   ]
  },
  {
   "cell_type": "code",
   "execution_count": null,
   "metadata": {},
   "outputs": [],
   "source": [
    "DEPTH = 8 # used depth in the experiment\n",
    "ROUND = 2 # values: False or number"
   ]
  },
  {
   "cell_type": "code",
   "execution_count": null,
   "metadata": {},
   "outputs": [],
   "source": [
    "for DEPTH in [8,10]:\n",
    "    for ROUND in [3]:\n",
    "        dist_dict_og = pickle.load(open(f'gwp_data/prepared_hierarchical/dist_dict_depth{DEPTH}.p', \"rb\"))\n",
    "        name_to_list_og = pickle.load(open(f'gwp_data/prepared_hierarchical/name_to_list_depth{DEPTH}.p', \"rb\"))\n",
    "        country_tree_dict = pickle.load(open(f\"gwp_data/prepared_hierarchical/country_tree_dict_depth{DEPTH}.p\", \"rb\"))\n",
    "\n",
    "        dist_dict = dist_dict_og.copy()\n",
    "        name_to_list = name_to_list_og.copy()\n",
    "        clusters = init_clusters.copy()\n",
    "\n",
    "        if type(ROUND)==int:\n",
    "            num = math.floor(len(clusters)/ROUND)\n",
    "\n",
    "            if os.path.exists(f\"results/hierarchical/depth{DEPTH}_round{ROUND}.p\")==False:\n",
    "                round_clusters = hierarchical_help.clustering_round(num, ROUND, clusters, name_to_list, dist_dict, country_df_dict, country_tree_dict,  df_original, DEPTH)\n",
    "                pickle.dump(round_clusters, open(f\"results/hierarchical/depth{DEPTH}_round{ROUND}.p\", \"wb\"))\n",
    "            else:\n",
    "                clusters = pickle.load(open(f\"results/hierarchical/depth{DEPTH}_round{ROUND}.p\", \"rb\"))\n",
    "\n",
    "            if os.path.exists(f\"results/hierarchical/depth{DEPTH}_round{ROUND}_full.p\")==False:\n",
    "                clusters = hierarchical_help.clustering(10, round_clusters, name_to_list, dist_dict, country_df_dict, country_tree_dict,  df_original, DEPTH)\n",
    "                pickle.dump(clusters, open(f\"results/hierarchical/depth{DEPTH}_round{ROUND}_full.p\", \"wb\"))\n",
    "            else:\n",
    "                clusters = pickle.load(open(f\"results/hierarchical/depth{DEPTH}_round{ROUND}_full.p\", \"rb\"))\n",
    "\n",
    "        else:\n",
    "            if os.path.exists(f\"results/hierarchical/depth{DEPTH}_full.p\")==False:\n",
    "                clusters = hierarchical_help.clustering(10, clusters, name_to_list, dist_dict, country_df_dict, country_tree_dict,  df_original, DEPTH)\n",
    "                pickle.dump(clusters, open(f\"results/hierarchical/depth{DEPTH}_full.p\", \"wb\"))\n",
    "            else:\n",
    "                clusters = pickle.load(open(f\"results/hierarchical/depth{DEPTH}_full.p\", \"rb\"))\n",
    "            "
   ]
  }
 ],
 "metadata": {
  "kernelspec": {
   "display_name": "sem-pro",
   "language": "python",
   "name": "python3"
  },
  "language_info": {
   "codemirror_mode": {
    "name": "ipython",
    "version": 3
   },
   "file_extension": ".py",
   "mimetype": "text/x-python",
   "name": "python",
   "nbconvert_exporter": "python",
   "pygments_lexer": "ipython3",
   "version": "3.10.8 | packaged by conda-forge | (main, Nov 24 2022, 14:07:00) [MSC v.1916 64 bit (AMD64)]"
  },
  "orig_nbformat": 4,
  "vscode": {
   "interpreter": {
    "hash": "041b256c5c99f7718f2c855727968e49e7d3f10987ef9aa096be837926238695"
   }
  }
 },
 "nbformat": 4,
 "nbformat_minor": 2
}
