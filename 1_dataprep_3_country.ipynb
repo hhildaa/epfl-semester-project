{
 "cells": [
  {
   "attachments": {},
   "cell_type": "markdown",
   "metadata": {},
   "source": [
    "# Data preparation - country attributes"
   ]
  },
  {
   "cell_type": "code",
   "execution_count": null,
   "metadata": {},
   "outputs": [],
   "source": [
    "# imports\n",
    "import pandas as pd\n",
    "import pickle"
   ]
  },
  {
   "cell_type": "code",
   "execution_count": null,
   "metadata": {},
   "outputs": [],
   "source": [
    "# load data\n",
    "# meta data: country specific attributes\n",
    "df_VarSpeccountry = pd.read_excel(\"country_data/country_attributes.xlsx\", sheet_name=0)\n",
    "\n",
    "# country specific attributes\n",
    "df_country = pd.read_excel(\"country_data/country_attributes.xlsx\", sheet_name=1)\n",
    "\n",
    "# meta data: country pair specific data\n",
    "df_VarSpeccountrypair = pd.read_excel(\"country_data/country_attributes.xlsx\", sheet_name=2)\n",
    "\n",
    "# country pair specific data\n",
    "df_countrypair = pd.read_excel(\"country_data/country_attributes.xlsx\", sheet_name=3)\n",
    "\n",
    "# meta data: visa restrictions\n",
    "df_VarSpecvisa = pd.read_excel(\"country_data/country_attributes.xlsx\", sheet_name=4)\n",
    "\n",
    "# country pair specific data\n",
    "df_visa = pd.read_excel(\"country_data/country_attributes.xlsx\", sheet_name=5)\n"
   ]
  },
  {
   "cell_type": "code",
   "execution_count": null,
   "metadata": {},
   "outputs": [],
   "source": [
    "# Read in the Excel file 'country_attributes.xlsx' from the 'country_data' directory\n",
    "# Load the second sheet in the file into a Pandas DataFrame, and set the first column as the index\n",
    "df_country = pd.read_excel(\"country_data/country_attributes.xlsx\", sheet_name=1, index_col=0)\n",
    "\n",
    "# Remove rows from the DataFrame that have a value of 'YYY' in the 'ISO' column\n",
    "df_country.drop(df_country.loc[df_country['ISO'] =='YYY'].index, inplace=True)\n",
    "\n",
    "# Create a dictionary to map the freedom values to numerical values\n",
    "d = dict()\n",
    "d['NF'] = 0\n",
    "d['PF'] = 0.5\n",
    "d['F'] = 1\n",
    "# Map the values in the 'freedom' column to the numerical values in the d dictionary\n",
    "for i in range(2005, 2023):\n",
    "    df_country['freedom' + str(i)] = df_country['freedom' + str(i)].map(d)\n",
    "\n",
    "# Get the column names of the DataFrame which are categorical\n",
    "categorical_columns = ['christian', 'muslim',\n",
    "       'english_official', 'spanish_official', 'french_official',\n",
    "       'english_used', 'spanish_used', 'french_used', 'OECD', 'schengen',\n",
    "       'freedom2005', 'freedom2006', 'freedom2007', 'freedom2008',\n",
    "       'freedom2009', 'freedom2010', 'freedom2011', 'freedom2012',\n",
    "       'freedom2013', 'freedom2014', 'freedom2015', 'freedom2016',\n",
    "       'freedom2017', 'freedom2018', 'freedom2019', 'freedom2020',\n",
    "       'freedom2021', 'freedom2022', 'tropical', 'temperate', 'dry', 'polar',\n",
    "       'continental']\n",
    "\n",
    "# Impute values for the categorical columns in the DataFrame\n",
    "for col in categorical_columns:\n",
    "       df_country[col] = df_country[col].fillna(df_country[col].median())\n",
    "\n",
    "# Get the column names of the DataFrame which are numerical\n",
    "numerical_columns = df_country.columns.difference(categorical_columns).difference(['ISO'])\n",
    "\n",
    "# Impute values for the numerical columns in the DataFrame\n",
    "for col in numerical_columns:\n",
    "       df_country[col] = df_country[col].fillna(df_country[col].mean())\n",
    "\n",
    "# Initialize an empty DataFrame to store the country data for each year\n",
    "df_country_per_year = pd.DataFrame()\n",
    "\n",
    "# Iterate over the years from 2007 to 2021\n",
    "for year in range(2007, 2022):\n",
    "    # Make a copy of the relevant columns from the df_country DataFrame\n",
    "    help_df = df_country[['ISO', 'christian', 'muslim','english_official', 'spanish_official', 'french_official',\\\n",
    "    'english_used', 'spanish_used', 'french_used', 'OECD', 'schengen', 'tropical', 'temperate', 'dry', 'polar','continental']].copy()\n",
    "    # Add the GDPPC and logGDPPC columns for the current year\n",
    "    help_df['GDPPC'] = df_country[f'GDPPC{year}']\n",
    "    help_df['logGDPPC'] = df_country[f'logGDPPC{year}']\n",
    "    # If the current year is 2017 or later, add the POP and logPOP columns\n",
    "    if year>=2017:\n",
    "        help_df['POP'] = df_country[f'POP{year}']\n",
    "        help_df['logPOP'] = df_country[f'logPOP{year}']\n",
    "    # Add the freedom column for the current year\n",
    "    help_df['freedom'] = df_country[f'freedom{year}']\n",
    "\n",
    "    # Add a \"year\" column to the help_df DataFrame with the current year repeated for each row\n",
    "    help_df[\"year\"] = [year]* len(help_df['ISO'])\n",
    "    # Add the help_df DataFrame to the df_country_per_year DataFrame\n",
    "    df_country_per_year = pd.concat([help_df, df_country_per_year])\n",
    "\n",
    "# Rename the \"ISO\" and \"year\" columns in the df_country_per_year DataFrame\n",
    "df_country_per_year = df_country_per_year.rename(columns = {\"ISO\": \"COUNTRY_ISO3: Country ISO alpha-3 code\", \"year\": \"YEAR_WAVE: Wave Year\"})\n",
    "# Print the resulting df_country_per_year DataFrame\n",
    "df_country_per_year\n",
    "\n",
    "# save file as pickle\n",
    "df_country_per_year.to_pickle(\"country_data/country_per_year.pickle\")"
   ]
  }
 ],
 "metadata": {
  "kernelspec": {
   "display_name": "sem-pro",
   "language": "python",
   "name": "python3"
  },
  "language_info": {
   "name": "python",
   "version": "3.10.8 | packaged by conda-forge | (main, Nov 24 2022, 14:07:00) [MSC v.1916 64 bit (AMD64)]"
  },
  "orig_nbformat": 4,
  "vscode": {
   "interpreter": {
    "hash": "041b256c5c99f7718f2c855727968e49e7d3f10987ef9aa096be837926238695"
   }
  }
 },
 "nbformat": 4,
 "nbformat_minor": 2
}
