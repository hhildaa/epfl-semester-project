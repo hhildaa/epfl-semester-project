{
 "cells": [
  {
   "attachments": {},
   "cell_type": "markdown",
   "metadata": {},
   "source": [
    "# Clustering of countries"
   ]
  },
  {
   "cell_type": "code",
   "execution_count": null,
   "metadata": {},
   "outputs": [],
   "source": [
    "# imports\n",
    "import pandas as pd\n",
    "import seaborn as sns\n",
    "from sklearn.cluster import KMeans\n",
    "from sklearn.datasets import make_blobs\n",
    "import pickle\n",
    "import cluster_vis\n",
    "import cluster_methods\n",
    "import pandas as pd\n",
    "\n",
    "import dataprep\n",
    "import decisiontree_help\n",
    "\n",
    "%load_ext autoreload\n",
    "%autoreload 2"
   ]
  },
  {
   "cell_type": "code",
   "execution_count": null,
   "metadata": {},
   "outputs": [],
   "source": [
    "# reading the data\n",
    "source = \"gwp_data/clean_per_year/full_clean\"\n",
    "df = pd.read_pickle(source)\n",
    "\n",
    "with open('meta/countrynum_to_name_dict.pickle', 'rb') as fp:\n",
    "    countrynum_to_name_dict = pickle.load(fp)\n",
    "\n",
    "# clusters by ISO with visualization\n",
    "with open('meta/countrynum_to_ISO_dict.pickle', 'rb') as fp:\n",
    "    countrynum_to_ISO_dict = pickle.load(fp)\n",
    "\n",
    "source = \"meta/columns\"\n",
    "df_meta = pd.read_pickle(source)"
   ]
  },
  {
   "cell_type": "code",
   "execution_count": null,
   "metadata": {},
   "outputs": [],
   "source": [
    "df = dataprep.remove_unwanted(df, df_meta)\n",
    "df = dataprep.remove_notallcountry(df)\n",
    "df.head()\n"
   ]
  },
  {
   "cell_type": "markdown",
   "metadata": {},
   "source": [
    "### Cleaning\n",
    "- remove meaningless columns (f.e.: \"Unique Case ID\")\n",
    "- remove columns with NaN values \n",
    "This is reasonable, in most of the cases not only a few cell was missing. "
   ]
  },
  {
   "cell_type": "code",
   "execution_count": null,
   "metadata": {},
   "outputs": [],
   "source": [
    "df.drop([\"YEAR_WAVE: Wave Year\", \"COUNTRY_ISO3: Country ISO alpha-3 code\"], axis=1, inplace=True)\n",
    "df = df.convert_dtypes()"
   ]
  },
  {
   "cell_type": "markdown",
   "metadata": {},
   "source": [
    "### Dummy clustering with mean aggregation"
   ]
  },
  {
   "cell_type": "code",
   "execution_count": null,
   "metadata": {},
   "outputs": [],
   "source": [
    "cluster_methods.elbow_method(cluster_methods.mean_aggregation(df), 2, 20, 'kmeans')\n",
    "K = 6\n",
    "\n",
    "clusters = cluster_methods.dummy_cluster(df, \"mean\", K)\n",
    "\n",
    "# clusters by name\n",
    "df_mean = df.groupby(\"WP5: Country\").mean()\n",
    "\n",
    "countrynum_to_cluster_dict = {elem:cluster for (elem, cluster) in zip(list(df_mean.index),clusters)}\n",
    "\n",
    "ISO_to_cluster_dict = dict((countrynum_to_ISO_dict[key], value) for (key, value) in countrynum_to_cluster_dict.items())\n",
    "\n",
    "df_result = pd.DataFrame.from_dict(ISO_to_cluster_dict, orient='index', columns=[\"cluster\"])\n",
    "df_result[\"WP5: Country\"] = df_result.index\n",
    "df_result[\"COUNTRY_ISO3: Country ISO alpha-3 code\"] = df_result.index\n",
    "\n",
    "# print clusters\n",
    "countryname_cluster_dict = {countrynum_to_name_dict[elem]:cluster for (elem, cluster) in zip(list(df_mean.index), clusters)}\n",
    "\n",
    "for c in range(K):\n",
    "    print(f\"========= cluster: {c} ============\")\n",
    "    for country, cluster in countryname_cluster_dict.items():\n",
    "        if cluster == c:\n",
    "            print(country)\n",
    "\n",
    "cluster_vis.cluster_visualization(df_result, clusters, \"cluster_origin_mean\")\n"
   ]
  },
  {
   "cell_type": "markdown",
   "metadata": {},
   "source": [
    "### Dummy aggregation with K-Modes"
   ]
  },
  {
   "cell_type": "code",
   "execution_count": null,
   "metadata": {},
   "outputs": [],
   "source": [
    "cluster_methods.elbow_method(cluster_methods.mode_aggregation(df), 2, 20, 'kmeans')\n",
    "K = 5\n",
    "\n",
    "clusters = cluster_methods.dummy_cluster(df, \"mode\", K)\n",
    "\n",
    "# clusters by name\n",
    "df_mode = df.groupby(\"WP5: Country\").mean()\n",
    "\n",
    "countrynum_to_cluster_dict = {elem:cluster for (elem, cluster) in zip(list(df_mode.index),clusters)}\n",
    "\n",
    "ISO_to_cluster_dict = dict((countrynum_to_ISO_dict[key], value) for (key, value) in countrynum_to_cluster_dict.items())\n",
    "\n",
    "df_result = pd.DataFrame.from_dict(ISO_to_cluster_dict, orient='index', columns=[\"cluster\"])\n",
    "df_result[\"WP5: Country\"] = df_result.index\n",
    "df_result[\"COUNTRY_ISO3: Country ISO alpha-3 code\"] = df_result.index\n",
    "\n",
    "# print clusters\n",
    "countryname_cluster_dict = {countrynum_to_name_dict[elem]:cluster for (elem, cluster) in zip(list(df_mode.index), clusters)}\n",
    "\n",
    "for c in range(K):\n",
    "    print(f\"========= cluster: {c} ============\")\n",
    "    for country, cluster in countryname_cluster_dict.items():\n",
    "        if cluster == c:\n",
    "            print(country)\n",
    "\n",
    "cluster_vis.cluster_visualization(df_result, clusters, \"cluster_origin_mode\")"
   ]
  }
 ],
 "metadata": {
  "kernelspec": {
   "display_name": "sem-pro",
   "language": "python",
   "name": "python3"
  },
  "language_info": {
   "codemirror_mode": {
    "name": "ipython",
    "version": 3
   },
   "file_extension": ".py",
   "mimetype": "text/x-python",
   "name": "python",
   "nbconvert_exporter": "python",
   "pygments_lexer": "ipython3",
   "version": "3.10.8 | packaged by conda-forge | (main, Nov 24 2022, 14:07:00) [MSC v.1916 64 bit (AMD64)]"
  },
  "orig_nbformat": 4,
  "vscode": {
   "interpreter": {
    "hash": "041b256c5c99f7718f2c855727968e49e7d3f10987ef9aa096be837926238695"
   }
  }
 },
 "nbformat": 4,
 "nbformat_minor": 2
}
