{
 "cells": [
  {
   "cell_type": "markdown",
   "metadata": {},
   "source": [
    "# Decision tree - migration aspiration"
   ]
  },
  {
   "cell_type": "markdown",
   "metadata": {},
   "source": [
    "#### Imports"
   ]
  },
  {
   "cell_type": "code",
   "execution_count": null,
   "metadata": {},
   "outputs": [],
   "source": [
    "# imports\n",
    "import pandas as pd\n",
    "import numpy as np\n",
    "import pickle\n",
    "\n",
    "import matplotlib.pyplot as plt\n",
    "import plotly.express as px\n",
    "\n",
    "from sklearn import tree\n",
    "from sklearn.neighbors import NearestNeighbors\n",
    "from sklearn.decomposition import PCA\n",
    "\n",
    "import cluster_methods\n",
    "import decisiontree_help\n",
    "import cluster_vis\n",
    "\n",
    "import warnings\n",
    "warnings.filterwarnings(\"ignore\")\n",
    "%load_ext autoreload\n",
    "%autoreload 2"
   ]
  },
  {
   "attachments": {},
   "cell_type": "markdown",
   "metadata": {},
   "source": [
    "#### Reading the files \n",
    "Choose between data with or without global region variables."
   ]
  },
  {
   "cell_type": "code",
   "execution_count": null,
   "metadata": {},
   "outputs": [],
   "source": [
    "# reading the data\n",
    "\n",
    "source = \"gwp_data/prepared_aspiration/clean_data_from18to22_\"\n",
    "df_w = pd.read_pickle(source)\n",
    "\n",
    "source = \"gwp_data/prepared_aspiration/clean_data_from18to22_woregions\"\n",
    "df_wo = pd.read_pickle(source)\n",
    "\n",
    "source = \"country_data/country_per_year.pickle\"\n",
    "df_country_per_year = pd.read_pickle(source)"
   ]
  },
  {
   "attachments": {},
   "cell_type": "markdown",
   "metadata": {},
   "source": [
    "Join dataframes"
   ]
  },
  {
   "cell_type": "code",
   "execution_count": null,
   "metadata": {},
   "outputs": [],
   "source": [
    "df_wo = df_wo.set_index([\"COUNTRY_ISO3: Country ISO alpha-3 code\", \"YEAR_WAVE: Wave Year\"])\n",
    "df_country_per_year = df_country_per_year.set_index([\"COUNTRY_ISO3: Country ISO alpha-3 code\", \"YEAR_WAVE: Wave Year\"])"
   ]
  },
  {
   "cell_type": "code",
   "execution_count": null,
   "metadata": {},
   "outputs": [],
   "source": [
    "# Join the df_filtered and df_help_full dataframes on the 'ISO' and 'YEAR_WAVE: Wave Year' columns\n",
    "df_joined = df_wo.join(df_country_per_year, on=['COUNTRY_ISO3: Country ISO alpha-3 code', 'YEAR_WAVE: Wave Year'])\n",
    "# Apply a function to the df_joined DataFrame, replacing lists with their mean values\n",
    "df_joined = df_joined.applymap(lambda x: x.mean() if type(x)==list else x)\n",
    "df_wo = df_joined.reset_index() \n",
    "df_joined.head()"
   ]
  },
  {
   "cell_type": "code",
   "execution_count": null,
   "metadata": {},
   "outputs": [],
   "source": [
    "# Important characteristics of the dataframe\n",
    "print(\"Size of the dataframe:\", df_joined.shape)"
   ]
  },
  {
   "cell_type": "code",
   "execution_count": null,
   "metadata": {},
   "outputs": [],
   "source": [
    "with open('meta/countrynum_to_name_dict.pickle', 'rb') as fp:\n",
    "    countrynum_to_name_dict = pickle.load(fp)\n",
    "\n",
    "with open('meta/countrynum_to_ISO_dict.pickle', 'rb') as fp:\n",
    "    countrynum_to_ISO_dict = pickle.load(fp)"
   ]
  },
  {
   "cell_type": "code",
   "execution_count": null,
   "metadata": {},
   "outputs": [],
   "source": [
    "source = \"meta/columns\"\n",
    "df_meta = pd.read_pickle(source)"
   ]
  },
  {
   "cell_type": "code",
   "execution_count": null,
   "metadata": {},
   "outputs": [],
   "source": [
    "# save the original dataframe to be able to recover the answers\n",
    "df_original_w = df_w.copy()\n",
    "df_original_wo = df_wo.copy()"
   ]
  },
  {
   "cell_type": "markdown",
   "metadata": {},
   "source": [
    "#### Data preparation for the decision tree"
   ]
  },
  {
   "cell_type": "code",
   "execution_count": null,
   "metadata": {},
   "outputs": [],
   "source": [
    "# keep only predictive columns\n",
    "non_pred_columns = ['Region: Region',\\\n",
    "                    'YEAR_WAVE: Wave Year',\\\n",
    "                    'COUNTRY_ISO3: Country ISO alpha-3 code',\\\n",
    "                    'WP1325: Move Permanently to Another Country',\\\n",
    "                    'WP3120: Country Would Move To',\\\n",
    "                    'WP5889: Questionnaire Serial Number'   ]\n",
    "\n",
    "df_w = df_w.loc[:, ~df_w.columns.isin(non_pred_columns)]\n",
    "\n",
    "df_wo = df_wo.loc[:, ~df_wo.columns.isin(non_pred_columns)]"
   ]
  },
  {
   "cell_type": "code",
   "execution_count": null,
   "metadata": {},
   "outputs": [],
   "source": [
    "df_w['WP9048: Country Where Born'] = df_w['WP9048: Country Where Born']==df_w[\"WP5: Country\"]\n",
    "df_w.drop('WP5: Country', axis=1, inplace=True)\n",
    "\n",
    "df_wo['WP9048: Country Where Born'] = df_wo['WP9048: Country Where Born']==df_wo[\"WP5: Country\"]\n",
    "df_wo.drop('WP5: Country', axis=1, inplace=True)"
   ]
  },
  {
   "cell_type": "markdown",
   "metadata": {},
   "source": [
    "#### Categorical data"
   ]
  },
  {
   "cell_type": "code",
   "execution_count": null,
   "metadata": {},
   "outputs": [],
   "source": [
    "yes_columns = []\n",
    "yn_columns = []\n",
    "ordinal_columns = []\n",
    "no_columns = []\n",
    "\n",
    "for col in df_w.columns:\n",
    "    l = list(df_meta[df_meta['column'].str.contains(col)][\"categorical?\"])\n",
    "    if len(l) !=0:\n",
    "        if \"yes\" in l[0]:\n",
    "            yes_columns.append(col)\n",
    "        if \"yn\" in l[0] :\n",
    "            yn_columns.append(col)\n",
    "        if \"ordinal\" in l[0] :\n",
    "            ordinal_columns.append(col)\n",
    "        if \"no\" in l[0] :\n",
    "            no_columns.append(col)"
   ]
  },
  {
   "cell_type": "code",
   "execution_count": null,
   "metadata": {},
   "outputs": [],
   "source": [
    "cat_columns = set(yn_columns + yes_columns).intersection(df_wo.columns)\n",
    "cat_columns = cat_columns.difference(set('WP1325: Move Permanently to Another Country'))\n",
    "\n",
    "df_wo = pd.get_dummies(df_wo, columns = cat_columns, prefix=cat_columns)\n",
    "df_wo.convert_dtypes()\n",
    "\n",
    "cat_columns = set(yn_columns + yes_columns).intersection(df_w.columns)\n",
    "cat_columns = cat_columns.difference(set('WP1325: Move Permanently to Another Country'))\n",
    "\n",
    "df_w = pd.get_dummies(df_w, columns = cat_columns, prefix=cat_columns)\n",
    "df_w.convert_dtypes()"
   ]
  },
  {
   "cell_type": "code",
   "execution_count": null,
   "metadata": {},
   "outputs": [],
   "source": [
    "X_wo = df_wo.loc[:, ~df_wo.columns.isin(['WP1325: Move Permanently to Another Country'])]\n",
    "X_wo.dropna(axis=1, inplace=True)\n",
    "\n",
    "X_w = df_w.loc[:, ~df_w.columns.isin(['WP1325: Move Permanently to Another Country'])]\n",
    "X_w.dropna(axis=1, inplace=True)"
   ]
  },
  {
   "cell_type": "code",
   "execution_count": null,
   "metadata": {},
   "outputs": [],
   "source": [
    "df_original_w['WP1325: Move Permanently to Another Country'] = df_original_w['WP1325: Move Permanently to Another Country'] - 1\n",
    "Y_w = df_original_w['WP1325: Move Permanently to Another Country'].astype(int)\n",
    "\n",
    "df_original_wo['WP1325: Move Permanently to Another Country'] = df_original_wo['WP1325: Move Permanently to Another Country'] - 1\n",
    "Y_wo = df_original_wo['WP1325: Move Permanently to Another Country'].astype(int)"
   ]
  },
  {
   "attachments": {},
   "cell_type": "markdown",
   "metadata": {},
   "source": [
    "# Without region"
   ]
  },
  {
   "attachments": {},
   "cell_type": "markdown",
   "metadata": {},
   "source": [
    "#### Training the decision tree"
   ]
  },
  {
   "cell_type": "code",
   "execution_count": null,
   "metadata": {},
   "outputs": [],
   "source": [
    "clf = tree.DecisionTreeClassifier(max_depth=3)\n",
    "clf = clf.fit(X_wo, Y_wo)\n",
    "\n",
    "plt.figure(figsize=(12,12), dpi=400)\n",
    "tree.plot_tree(clf, fontsize=3, filled=True)"
   ]
  },
  {
   "cell_type": "code",
   "execution_count": null,
   "metadata": {},
   "outputs": [],
   "source": [
    "sum(clf.predict(X_wo) == Y_wo) / len(Y_wo)"
   ]
  },
  {
   "cell_type": "code",
   "execution_count": null,
   "metadata": {},
   "outputs": [],
   "source": [
    "decisiontree_help.tree_to_code(clf, df_wo.columns)"
   ]
  },
  {
   "cell_type": "code",
   "execution_count": null,
   "metadata": {},
   "outputs": [],
   "source": [
    "tree_ = clf.tree_\n",
    "tree_.feature"
   ]
  },
  {
   "attachments": {},
   "cell_type": "markdown",
   "metadata": {},
   "source": [
    "### Clustering 1 - MAX Leaves\n",
    "The countries are in the same cluster if they are most represented in the same leafes."
   ]
  },
  {
   "cell_type": "code",
   "execution_count": null,
   "metadata": {},
   "outputs": [],
   "source": [
    "name_iso = df_original_wo.get([\"WP5: Country\", \"COUNTRY_ISO3: Country ISO alpha-3 code\"])"
   ]
  },
  {
   "cell_type": "code",
   "execution_count": null,
   "metadata": {},
   "outputs": [],
   "source": [
    "df_with_country = X_wo.join(name_iso, how='left')\n",
    "df_with_country"
   ]
  },
  {
   "cell_type": "code",
   "execution_count": null,
   "metadata": {},
   "outputs": [],
   "source": [
    "df_cluster1 = decisiontree_help.clustering1_depth3(clf, X_wo, df_with_country, countrynum_to_name_dict)\n",
    "df_cluster1[\"WP5: Country\"] = [countrynum_to_name_dict[c_code] for c_code in df_cluster1.index]\n",
    "df_cluster1[\"COUNTRY_ISO3: Country ISO alpha-3 code\"] = [countrynum_to_ISO_dict[c_code] for c_code in df_cluster1.index]\n",
    "cluster_vis.cluster_visualization(df_cluster1, df_cluster1[\"cluster_1\"], \"D1\")"
   ]
  },
  {
   "cell_type": "code",
   "execution_count": null,
   "metadata": {},
   "outputs": [],
   "source": [
    "df_cluster1\n"
   ]
  },
  {
   "attachments": {},
   "cell_type": "markdown",
   "metadata": {},
   "source": [
    "### Clustering 2 - MAX 2 leaves\n",
    "The countries are in the same cluster if the two most represented leafes are the same."
   ]
  },
  {
   "cell_type": "code",
   "execution_count": null,
   "metadata": {},
   "outputs": [],
   "source": [
    "df_cluster2 = decisiontree_help.clustering2(df_cluster1, 3, countrynum_to_name_dict)\n",
    "df_cluster2[\"WP5: Country\"] = [countrynum_to_name_dict[c_code] for c_code in df_cluster2.index]\n",
    "df_cluster2[\"COUNTRY_ISO3: Country ISO alpha-3 code\"] = [countrynum_to_ISO_dict[c_code] for c_code in df_cluster2.index]\n",
    "cluster_vis.cluster_visualization(df_cluster2, df_cluster2[\"cluster_2\"], \"D2\")"
   ]
  },
  {
   "cell_type": "code",
   "execution_count": null,
   "metadata": {},
   "outputs": [],
   "source": [
    "df_cluster2"
   ]
  },
  {
   "attachments": {},
   "cell_type": "markdown",
   "metadata": {},
   "source": [
    "### Clustering 3 - DBSCAN"
   ]
  },
  {
   "cell_type": "code",
   "execution_count": null,
   "metadata": {},
   "outputs": [],
   "source": [
    "decisiontree_help.run_clusters_distribution(8, X_wo, Y_wo, df_original_wo, 'dbscan', 0.040) "
   ]
  },
  {
   "attachments": {},
   "cell_type": "markdown",
   "metadata": {},
   "source": [
    "### Clustering 4 - K-Means"
   ]
  },
  {
   "attachments": {},
   "cell_type": "markdown",
   "metadata": {},
   "source": [
    "#### depth = 8"
   ]
  },
  {
   "cell_type": "code",
   "execution_count": null,
   "metadata": {},
   "outputs": [],
   "source": [
    "df_help_8_kmeans = decisiontree_help.create_df(8, X_wo, Y_wo, df_original_wo)\n",
    "cluster_methods.elbow_method(df_help_8_kmeans, 2, 10, \"kmeans\")"
   ]
  },
  {
   "cell_type": "code",
   "execution_count": null,
   "metadata": {},
   "outputs": [],
   "source": [
    "decisiontree_help.run_clusters_distribution(8, X_wo, Y_wo, df_original_wo, 'kmeans', 8)"
   ]
  },
  {
   "attachments": {},
   "cell_type": "markdown",
   "metadata": {},
   "source": [
    "#### depth = max"
   ]
  },
  {
   "cell_type": "code",
   "execution_count": null,
   "metadata": {},
   "outputs": [],
   "source": [
    "# df_help_max_kmeans = decisiontree_help.create_df('max', X_wo, Y_wo, df_original_wo)\n",
    "# cluster_methods.elbow_method(df_help_max_kmeans, 2, 10, \"kmeans\")\n",
    "\n",
    "# decisiontree_help.run_clusters_distribution('max', X_wo, Y_wo, df_original_wo, 'kmeans', 8) "
   ]
  },
  {
   "attachments": {},
   "cell_type": "markdown",
   "metadata": {},
   "source": [
    "### Clustering 5 - Agglomerative clustering"
   ]
  },
  {
   "attachments": {},
   "cell_type": "markdown",
   "metadata": {},
   "source": [
    "#### depth = 8"
   ]
  },
  {
   "cell_type": "code",
   "execution_count": null,
   "metadata": {},
   "outputs": [],
   "source": [
    "df_help_8_agglo = decisiontree_help.create_df(8, X_wo, Y_wo, df_original_wo)\n",
    "cluster_methods.elbow_method(df_help_8_agglo, 2, 20, \"agglo\")"
   ]
  },
  {
   "cell_type": "code",
   "execution_count": null,
   "metadata": {},
   "outputs": [],
   "source": [
    "decisiontree_help.run_clusters_distribution(8, X_wo, Y_wo, df_original_wo, 'agglo', 6) "
   ]
  },
  {
   "attachments": {},
   "cell_type": "markdown",
   "metadata": {},
   "source": [
    "#### depth = max"
   ]
  },
  {
   "cell_type": "code",
   "execution_count": null,
   "metadata": {},
   "outputs": [],
   "source": [
    "# df_help_max_agglo = decisiontree_help.create_df('max', X_wo, Y_wo, df_original_wo)\n",
    "# cluster_methods.elbow_method(df_help_max_agglo, 2, 20, \"agglo\")\n",
    "\n",
    "# decisiontree_help.run_clusters_distribution('max', X_wo, Y_wo, df_original_wo, 'agglo', 10) "
   ]
  }
 ],
 "metadata": {
  "kernelspec": {
   "display_name": "sem-pro",
   "language": "python",
   "name": "python3"
  },
  "language_info": {
   "codemirror_mode": {
    "name": "ipython",
    "version": 3
   },
   "file_extension": ".py",
   "mimetype": "text/x-python",
   "name": "python",
   "nbconvert_exporter": "python",
   "pygments_lexer": "ipython3",
   "version": "3.10.8"
  },
  "orig_nbformat": 4,
  "vscode": {
   "interpreter": {
    "hash": "041b256c5c99f7718f2c855727968e49e7d3f10987ef9aa096be837926238695"
   }
  }
 },
 "nbformat": 4,
 "nbformat_minor": 2
}
