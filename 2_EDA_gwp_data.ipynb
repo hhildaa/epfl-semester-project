{
 "cells": [
  {
   "attachments": {},
   "cell_type": "markdown",
   "metadata": {},
   "source": [
    "# Exploratory Data Analysis"
   ]
  },
  {
   "cell_type": "code",
   "execution_count": null,
   "metadata": {},
   "outputs": [],
   "source": [
    "# imports\n",
    "import pandas as pd\n",
    "import seaborn as sns\n",
    "import numpy as np\n",
    "import matplotlib.pyplot as plt"
   ]
  },
  {
   "cell_type": "markdown",
   "metadata": {},
   "source": [
    "### Read from pickle"
   ]
  },
  {
   "cell_type": "code",
   "execution_count": null,
   "metadata": {},
   "outputs": [],
   "source": [
    "source = \"gwp_data/prepared_aspiration/full_aspiration\"\n",
    "df_asp = pd.read_pickle(source)\n",
    "\n",
    "source = \"gwp_data/prepared_destination/full_destination\"\n",
    "df_des = pd.read_pickle(source)"
   ]
  },
  {
   "attachments": {},
   "cell_type": "markdown",
   "metadata": {},
   "source": [
    "#### Basic statistics"
   ]
  },
  {
   "cell_type": "code",
   "execution_count": null,
   "metadata": {},
   "outputs": [],
   "source": [
    "print(\"Size of the dataframe: \", df_asp.shape)\n",
    "print(\"Year range: \", df_asp[\"YEAR_WAVE: Wave Year\"].min(), \" - \", df_asp[\"YEAR_WAVE: Wave Year\"].max())\n",
    "print(\"Number of countries: \", df_asp[\"COUNTRY_ISO3: Country ISO alpha-3 code\"].nunique())"
   ]
  },
  {
   "cell_type": "markdown",
   "metadata": {},
   "source": [
    "### Age"
   ]
  },
  {
   "cell_type": "code",
   "execution_count": null,
   "metadata": {},
   "outputs": [],
   "source": [
    "sns.histplot(data = df_asp['WP1220: Age'], bins = 20)\n",
    "\n",
    "age = [df_asp[\"WP1220: Age\"].where(df_asp[\"WP1220: Age\"] < 100).dropna().values]\n",
    "\n",
    "print(\"Age range: \", np.min(age), \" - \", np.max(age))\n",
    "print(\"Age mean: \", np.mean(age))\n",
    "print(\"Age median: \", np.median(age))\n",
    "print(\"Age standard deviation: \", np.std(age))"
   ]
  },
  {
   "cell_type": "markdown",
   "metadata": {},
   "source": [
    "#### Gender"
   ]
  },
  {
   "cell_type": "code",
   "execution_count": null,
   "metadata": {},
   "outputs": [],
   "source": [
    "sns.histplot(data = df_asp['WP1219: Gender'])\n",
    "\n",
    "print(df_asp[\"WP1219: Gender\"].value_counts(normalize = True))"
   ]
  },
  {
   "cell_type": "markdown",
   "metadata": {},
   "source": [
    "#### Country"
   ]
  },
  {
   "cell_type": "code",
   "execution_count": null,
   "metadata": {},
   "outputs": [],
   "source": [
    "df_asp['WP5: Country'].describe()"
   ]
  },
  {
   "cell_type": "markdown",
   "metadata": {},
   "source": [
    "#### Number of respondents per countries"
   ]
  },
  {
   "cell_type": "code",
   "execution_count": null,
   "metadata": {},
   "outputs": [],
   "source": [
    "plt.figure(figsize=(20,8))\n",
    "\n",
    "mini_df = pd.DataFrame(df_asp['WP5: Country'].value_counts())\n",
    "mini_df['ISO'] = df_asp['COUNTRY_ISO3: Country ISO alpha-3 code'].unique()\n",
    "mini_df.set_index('ISO', inplace = True)\n",
    "mini_df = mini_df.sort_values(by = 'WP5: Country', ascending = False)\n",
    "\n",
    "g = sns.barplot(x = mini_df.index, y = mini_df.values.flatten())\n",
    "plt.xticks(rotation=90)\n",
    "sns.set(font_scale = 1)\n",
    "\n",
    "plt.xlabel('Country ISO3 code')\n",
    "plt.ylabel('Number of respondents')\n",
    "plt.title('Number of respondents per country')\n",
    "\n",
    "plt.show()"
   ]
  },
  {
   "cell_type": "code",
   "execution_count": null,
   "metadata": {},
   "outputs": [],
   "source": [
    "df_asp['WP5: Country'].value_counts().sort_values"
   ]
  },
  {
   "attachments": {},
   "cell_type": "markdown",
   "metadata": {},
   "source": [
    "#### Countries and migration aspiration"
   ]
  },
  {
   "cell_type": "code",
   "execution_count": null,
   "metadata": {},
   "outputs": [],
   "source": [
    "df_asp.groupby(['WP5: Country', 'WP1325: Move Permanently to Another Country'])['YEAR_WAVE: Wave Year'].count()"
   ]
  },
  {
   "cell_type": "code",
   "execution_count": null,
   "metadata": {},
   "outputs": [],
   "source": [
    "help_df_decision = pd.DataFrame()\n",
    "help_df_decision['all_answers'] = df_asp.groupby(['WP5: Country'])['WP1325: Move Permanently to Another Country'].count()\n",
    "help_df_decision['yes_answers'] = df_asp[df_asp['WP1325: Move Permanently to Another Country']==1].groupby(['WP5: Country'])['WP1325: Move Permanently to Another Country'].count()\n",
    "help_df_decision['percent_want_to_go'] = help_df_decision['yes_answers']/help_df_decision['all_answers']\n",
    "help_df_decision['ISO'] = df_asp['COUNTRY_ISO3: Country ISO alpha-3 code'].unique()\n",
    "help_df_decision.set_index('ISO', inplace = True)\n",
    "help_df_decision.sort_values(by='percent_want_to_go', ascending = False, inplace = True)\n",
    "plt.figure(figsize=(18,8))\n",
    "g = sns.barplot(x = help_df_decision.index, y=help_df_decision['percent_want_to_go'])\n",
    "plt.xticks(rotation=90)\n",
    "plt.xlabel('Country ISO3 code')\n",
    "plt.ylabel('Percent of respondents who want to move permanently to another country')\n",
    "plt.title('Percent of respondents who want to move permanently to another country per country')\n",
    "sns.set(font_scale = 0.6) \n",
    "plt.show()"
   ]
  },
  {
   "cell_type": "code",
   "execution_count": null,
   "metadata": {},
   "outputs": [],
   "source": [
    "print(\"Percent of respondents who want to move permanently to another country range: \", help_df_decision['percent_want_to_go'].min()*100, \" - \", help_df_decision['percent_want_to_go'].max()*100)\n",
    "print(\"Percent of respondents who want to move permanently to another country mean: \", help_df_decision['percent_want_to_go'].mean()*100)\n",
    "print(\"Top 10 countries with the highest percent of respondents who want to move permanently to another country: \")\n",
    "print(help_df_decision['percent_want_to_go'].head(10)*100)\n",
    "print(\"Top 10 countries with the lowest percent of respondents who want to move permanently to another country: \")\n",
    "print(help_df_decision['percent_want_to_go'].tail(10)*100)"
   ]
  },
  {
   "cell_type": "code",
   "execution_count": null,
   "metadata": {},
   "outputs": [],
   "source": [
    "source = \"country_data/country_per_year.pickle\"\n",
    "df_country = pd.read_pickle(source)\n",
    "\n",
    "df_country.groupby(['COUNTRY_ISO3: Country ISO alpha-3 code'])['POP'].mean()\n",
    "\n",
    "help_df_decision['POP'] = df_country.groupby(['COUNTRY_ISO3: Country ISO alpha-3 code'])['POP'].mean()\n",
    "help_df_decision['volume'] = help_df_decision['POP']*help_df_decision['percent_want_to_go']\n",
    "\n",
    "help_df_decision.sort_values(by='volume', ascending = False, inplace = True)\n",
    "\n",
    "\n",
    "plt.figure(figsize=(18,8))\n",
    "# log scale\n",
    "g = sns.barplot(x = help_df_decision.index, y=help_df_decision['volume'], log = True)\n",
    "plt.xticks(rotation=90)\n",
    "plt.xlabel('Country ISO3 code')\n",
    "plt.ylabel('Logarithm of the volume of people who want to move permanently to another country')\n",
    "plt.title('Log-volume of people who want to move permanently to another country per country')\n",
    "sns.set(font_scale = 0.6)\n",
    "plt.show()\n"
   ]
  },
  {
   "cell_type": "code",
   "execution_count": null,
   "metadata": {},
   "outputs": [],
   "source": [
    "# top 10 countries with the highest volume of people who want to move permanently to another country\n",
    "print(\"Top 10 countries with the highest volume of people who want to move permanently to another country: \")\n",
    "print(help_df_decision['volume'].head(10))"
   ]
  },
  {
   "cell_type": "markdown",
   "metadata": {},
   "source": [
    "#### Country where to move"
   ]
  },
  {
   "cell_type": "code",
   "execution_count": null,
   "metadata": {},
   "outputs": [],
   "source": [
    "# import num to ISO3 from pickle file\n",
    "source = \"meta/countrynum_to_ISO_dict.pickle\"\n",
    "num_to_ISO = pd.read_pickle(source)"
   ]
  },
  {
   "cell_type": "code",
   "execution_count": null,
   "metadata": {},
   "outputs": [],
   "source": [
    "help_df_where = pd.DataFrame()\n",
    "help_df_where['number_data'] = df_des.groupby([\"WP5: Country\",\"WP3120: Country Would Move To\"])[\"YEAR_WAVE: Wave Year\"].count()\n",
    "list = []\n",
    "dict = help_df_where.groupby([\"WP5: Country\"]).count()\n",
    "for index, elem in help_df_where['number_data'].iteritems():\n",
    "    list.append(elem / dict[dict.index == index[0]]['number_data'].values[0])\n",
    "help_df_where['percent'] = list\n",
    "help_df_where1 =help_df_where.drop('number_data', axis=1)\n",
    "\n",
    "help_df_where1"
   ]
  },
  {
   "cell_type": "code",
   "execution_count": null,
   "metadata": {},
   "outputs": [],
   "source": [
    "start_num = len(help_df_where1.index.get_level_values(0).unique())\n",
    "end_num = len(help_df_where1.index.get_level_values(1).unique())\n",
    "map = np.zeros((start_num, end_num))\n",
    "for index, elem in help_df_where1.iterrows():\n",
    "    if int(index[0]) < start_num and int(index[1]) < end_num:\n",
    "        map[int(index[0])][int(index[1])] = elem[0]\n",
    "\n",
    "plt.figure(figsize=(15,15))\n",
    "plt.xlabel('Country ISO3 code of destination')\n",
    "plt.ylabel('Country ISO3 code of origin')\n",
    "plt.title('Percent of respondents who want to move permanently to another country per country')\n",
    "sns.set(font_scale = 0.6)\n",
    "sns.heatmap(map, cmap=\"crest\", vmax = 1)#, vmax=50)#, annot=True)"
   ]
  },
  {
   "cell_type": "markdown",
   "metadata": {},
   "source": [
    "Country Would Move To:\n",
    "(Asked only of those who would like to move to another country.)"
   ]
  },
  {
   "cell_type": "code",
   "execution_count": null,
   "metadata": {},
   "outputs": [],
   "source": [
    "# read pickle file country number to name\n",
    "source = \"meta/countrynum_to_name_dict.pickle\"\n",
    "countrynum_to_name_dict = pd.read_pickle(source)"
   ]
  },
  {
   "cell_type": "code",
   "execution_count": null,
   "metadata": {},
   "outputs": [],
   "source": [
    "help_df2 = pd.DataFrame(help_df_where.groupby('WP3120: Country Would Move To')['number_data'].sum()/help_df_where[\"number_data\"].sum())\n",
    "# map country num to ISO3\n",
    "help_df2['ISO'] = help_df2.index.map(countrynum_to_name_dict)\n",
    "help_df2 = help_df2.dropna()\n",
    "help_df2.set_index('ISO', inplace = True)\n",
    "help_df2.sort_values(by='number_data', ascending=False, inplace = True)\n",
    "help_df2 *= 100"
   ]
  },
  {
   "cell_type": "code",
   "execution_count": null,
   "metadata": {},
   "outputs": [],
   "source": [
    "# top 10 countries where people want to move\n",
    "print(\"Top 10 countries where people want to move:\")\n",
    "print(help_df2.head(10))\n",
    "\n",
    "# bottom 10 countries where people want to move if not nan\n",
    "print(\"Bottom 10 countries where people want to move:\")\n",
    "print(help_df2.tail(10))\n"
   ]
  }
 ],
 "metadata": {
  "kernelspec": {
   "display_name": "sem-pro",
   "language": "python",
   "name": "python3"
  },
  "language_info": {
   "codemirror_mode": {
    "name": "ipython",
    "version": 3
   },
   "file_extension": ".py",
   "mimetype": "text/x-python",
   "name": "python",
   "nbconvert_exporter": "python",
   "pygments_lexer": "ipython3",
   "version": "3.10.8"
  },
  "orig_nbformat": 4,
  "vscode": {
   "interpreter": {
    "hash": "041b256c5c99f7718f2c855727968e49e7d3f10987ef9aa096be837926238695"
   }
  }
 },
 "nbformat": 4,
 "nbformat_minor": 2
}
