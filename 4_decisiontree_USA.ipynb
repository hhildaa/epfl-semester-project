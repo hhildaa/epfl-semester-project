{
 "cells": [
  {
   "attachments": {},
   "cell_type": "markdown",
   "metadata": {},
   "source": [
    "# Decision tree - migration destination choice"
   ]
  },
  {
   "cell_type": "markdown",
   "metadata": {},
   "source": [
    "#### Imports"
   ]
  },
  {
   "cell_type": "code",
   "execution_count": null,
   "metadata": {},
   "outputs": [],
   "source": [
    "# imports\n",
    "import pandas as pd\n",
    "import numpy as np\n",
    "import pickle\n",
    "\n",
    "import matplotlib.pyplot as plt\n",
    "import plotly.express as px\n",
    "\n",
    "from sklearn import tree\n",
    "from sklearn.neighbors import NearestNeighbors\n",
    "from sklearn.decomposition import PCA\n",
    "\n",
    "import cluster_methods\n",
    "import decisiontree_help\n",
    "import cluster_vis\n",
    "\n",
    "import warnings\n",
    "warnings.filterwarnings(\"ignore\")\n",
    "%load_ext autoreload\n",
    "%autoreload 2"
   ]
  },
  {
   "attachments": {},
   "cell_type": "markdown",
   "metadata": {},
   "source": [
    "#### Reading the files \n",
    "Choose between data with or without global region variables."
   ]
  },
  {
   "cell_type": "code",
   "execution_count": null,
   "metadata": {},
   "outputs": [],
   "source": [
    "# reading the data\n",
    "\n",
    "source = \"gwp_data/prepared_destination/clean_data_from18to22_\"\n",
    "df_w = pd.read_pickle(source)"
   ]
  },
  {
   "cell_type": "code",
   "execution_count": null,
   "metadata": {},
   "outputs": [],
   "source": [
    "df_w.drop(columns=['WP1325: Move Permanently to Another Country'], axis=1, inplace=True)\n",
    "df_w['WP3120: Country Would Move To'] = df_w['WP3120: Country Would Move To'].map(lambda x: 0 if x != 1 else 1)"
   ]
  },
  {
   "cell_type": "code",
   "execution_count": null,
   "metadata": {},
   "outputs": [],
   "source": [
    "# Important characteristics of the dataframe\n",
    "print(\"Size of the dataframe:\", df_w.shape)"
   ]
  },
  {
   "cell_type": "code",
   "execution_count": null,
   "metadata": {},
   "outputs": [],
   "source": [
    "with open('meta/countrynum_to_name_dict.pickle', 'rb') as fp:\n",
    "    countrynum_to_name_dict = pickle.load(fp)\n",
    "\n",
    "with open('meta/countrynum_to_ISO_dict.pickle', 'rb') as fp:\n",
    "    countrynum_to_ISO_dict = pickle.load(fp)"
   ]
  },
  {
   "cell_type": "code",
   "execution_count": null,
   "metadata": {},
   "outputs": [],
   "source": [
    "source = \"meta/columns\"\n",
    "df_meta = pd.read_pickle(source)"
   ]
  },
  {
   "cell_type": "code",
   "execution_count": null,
   "metadata": {},
   "outputs": [],
   "source": [
    "# save the original dataframe to be able to recover the answers\n",
    "df_original_w = df_w.copy()"
   ]
  },
  {
   "cell_type": "markdown",
   "metadata": {},
   "source": [
    "#### Data preparation for the decision tree"
   ]
  },
  {
   "cell_type": "code",
   "execution_count": null,
   "metadata": {},
   "outputs": [],
   "source": [
    "# keep only predictive columns\n",
    "non_pred_columns = ['Region: Region',\\\n",
    "                    'YEAR_WAVE: Wave Year',\\\n",
    "                    'COUNTRY_ISO3: Country ISO alpha-3 code',\\\n",
    "                    'WP1325: Move Permanently to Another Country',\\\n",
    "                    'WP3120: Country Would Move To',\\\n",
    "                    'WP5889: Questionnaire Serial Number'   ]\n",
    "\n",
    "df_w = df_w.loc[:, ~df_w.columns.isin(non_pred_columns)]"
   ]
  },
  {
   "cell_type": "code",
   "execution_count": null,
   "metadata": {},
   "outputs": [],
   "source": [
    "df_w['WP9048: Country Where Born'] = df_w['WP9048: Country Where Born']==df_w[\"WP5: Country\"]\n",
    "df_w.drop('WP5: Country', axis=1, inplace=True)"
   ]
  },
  {
   "cell_type": "markdown",
   "metadata": {},
   "source": [
    "#### Categorical data"
   ]
  },
  {
   "cell_type": "code",
   "execution_count": null,
   "metadata": {},
   "outputs": [],
   "source": [
    "yes_columns = []\n",
    "yn_columns = []\n",
    "ordinal_columns = []\n",
    "no_columns = []\n",
    "\n",
    "for col in df_w.columns:\n",
    "    l = list(df_meta[df_meta['column'].str.contains(col)][\"categorical?\"])\n",
    "    if len(l) !=0:\n",
    "        if \"yes\" in l[0]:\n",
    "            yes_columns.append(col)\n",
    "        if \"yn\" in l[0] :\n",
    "            yn_columns.append(col)\n",
    "        if \"ordinal\" in l[0] :\n",
    "            ordinal_columns.append(col)\n",
    "        if \"no\" in l[0] :\n",
    "            no_columns.append(col)"
   ]
  },
  {
   "cell_type": "code",
   "execution_count": null,
   "metadata": {},
   "outputs": [],
   "source": [
    "cat_columns = set(yn_columns + yes_columns).intersection(df_w.columns)\n",
    "cat_columns = cat_columns.difference(set('WP3120: Country Would Move To'))\n",
    "\n",
    "df_w = pd.get_dummies(df_w, columns = cat_columns, prefix=cat_columns)\n",
    "df_w.convert_dtypes()\n",
    "\n",
    "cat_columns = set(yn_columns + yes_columns).intersection(df_w.columns)\n",
    "cat_columns = cat_columns.difference(set('WP3120: Country Would Move To'))\n",
    "\n",
    "df_w = pd.get_dummies(df_w, columns = cat_columns, prefix=cat_columns)\n",
    "df_w.convert_dtypes()"
   ]
  },
  {
   "cell_type": "code",
   "execution_count": null,
   "metadata": {},
   "outputs": [],
   "source": [
    "X_w = df_w.loc[:, ~df_w.columns.isin(['WP3120: Country Would Move To'])]\n",
    "X_w.dropna(axis=1, inplace=True)\n",
    "\n",
    "Y_w = df_original_w['WP3120: Country Would Move To'].astype(int)"
   ]
  },
  {
   "attachments": {},
   "cell_type": "markdown",
   "metadata": {},
   "source": [
    "# Without region"
   ]
  },
  {
   "attachments": {},
   "cell_type": "markdown",
   "metadata": {},
   "source": [
    "#### Training the decision tree"
   ]
  },
  {
   "cell_type": "code",
   "execution_count": null,
   "metadata": {},
   "outputs": [],
   "source": [
    "clf = tree.DecisionTreeClassifier(max_depth=3)\n",
    "clf = clf.fit(X_w, Y_w)\n",
    "\n",
    "plt.figure(figsize=(12,12), dpi=400)\n",
    "tree.plot_tree(clf, fontsize=3, filled=True)"
   ]
  },
  {
   "cell_type": "code",
   "execution_count": null,
   "metadata": {},
   "outputs": [],
   "source": [
    "sum(clf.predict(X_w) == Y_w) / len(Y_w)"
   ]
  },
  {
   "cell_type": "code",
   "execution_count": null,
   "metadata": {},
   "outputs": [],
   "source": [
    "decisiontree_help.tree_to_code(clf, df_w.columns)"
   ]
  },
  {
   "cell_type": "code",
   "execution_count": null,
   "metadata": {},
   "outputs": [],
   "source": [
    "tree_ = clf.tree_\n",
    "tree_.feature"
   ]
  },
  {
   "attachments": {},
   "cell_type": "markdown",
   "metadata": {},
   "source": [
    "### Clustering 1 - MAX Leaves\n",
    "The countries are in the same cluster if they are most represented in the same leafes."
   ]
  },
  {
   "cell_type": "code",
   "execution_count": null,
   "metadata": {},
   "outputs": [],
   "source": [
    "name_iso = df_original_w.get([\"WP5: Country\", \"COUNTRY_ISO3: Country ISO alpha-3 code\"])"
   ]
  },
  {
   "cell_type": "code",
   "execution_count": null,
   "metadata": {},
   "outputs": [],
   "source": [
    "df_with_country = X_w.join(name_iso, how='left')\n",
    "df_with_country"
   ]
  },
  {
   "cell_type": "code",
   "execution_count": null,
   "metadata": {},
   "outputs": [],
   "source": [
    "df_cluster1 = decisiontree_help.clustering1_depth3(clf, X_w, df_with_country, countrynum_to_name_dict)\n",
    "df_cluster1[\"WP5: Country\"] = [countrynum_to_name_dict[c_code] for c_code in df_cluster1.index]\n",
    "df_cluster1[\"COUNTRY_ISO3: Country ISO alpha-3 code\"] = [countrynum_to_ISO_dict[c_code] for c_code in df_cluster1.index]\n",
    "cluster_vis.cluster_visualization(df_cluster1, df_cluster1[\"cluster_1\"], \"D1\")"
   ]
  },
  {
   "cell_type": "code",
   "execution_count": null,
   "metadata": {},
   "outputs": [],
   "source": [
    "df_cluster1\n"
   ]
  },
  {
   "attachments": {},
   "cell_type": "markdown",
   "metadata": {},
   "source": [
    "### Clustering 2 - MAX 2 leaves\n",
    "The countries are in the same cluster if the two most represented leafes are the same."
   ]
  },
  {
   "cell_type": "code",
   "execution_count": null,
   "metadata": {},
   "outputs": [],
   "source": [
    "df_cluster2 = decisiontree_help.clustering2(df_cluster1, 3, countrynum_to_name_dict)\n",
    "df_cluster2[\"WP5: Country\"] = [countrynum_to_name_dict[c_code] for c_code in df_cluster2.index]\n",
    "df_cluster2[\"COUNTRY_ISO3: Country ISO alpha-3 code\"] = [countrynum_to_ISO_dict[c_code] for c_code in df_cluster2.index]\n",
    "cluster_vis.cluster_visualization(df_cluster2, df_cluster2[\"cluster_2\"], \"D2\")"
   ]
  },
  {
   "cell_type": "code",
   "execution_count": null,
   "metadata": {},
   "outputs": [],
   "source": [
    "df_cluster2"
   ]
  },
  {
   "attachments": {},
   "cell_type": "markdown",
   "metadata": {},
   "source": [
    "### Clustering 3 - DBSCAN"
   ]
  },
  {
   "cell_type": "code",
   "execution_count": null,
   "metadata": {},
   "outputs": [],
   "source": [
    "decisiontree_help.run_clusters_distribution(4, X_w, Y_w, df_original_w, 'dbscan', 0.040) "
   ]
  },
  {
   "attachments": {},
   "cell_type": "markdown",
   "metadata": {},
   "source": [
    "### Clustering 4 - K-Means"
   ]
  },
  {
   "attachments": {},
   "cell_type": "markdown",
   "metadata": {},
   "source": [
    "#### depth = 8"
   ]
  },
  {
   "cell_type": "code",
   "execution_count": null,
   "metadata": {},
   "outputs": [],
   "source": [
    "df_help_8_kmeans = decisiontree_help.create_df(4, X_w, Y_w, df_original_w)\n",
    "cluster_methods.elbow_method(df_help_8_kmeans, 2, 20, \"kmeans\")"
   ]
  },
  {
   "cell_type": "code",
   "execution_count": null,
   "metadata": {},
   "outputs": [],
   "source": [
    "decisiontree_help.run_clusters_distribution(4, X_w, Y_w, df_original_w, 'kmeans', 5)"
   ]
  },
  {
   "attachments": {},
   "cell_type": "markdown",
   "metadata": {},
   "source": [
    "#### depth = max"
   ]
  },
  {
   "cell_type": "code",
   "execution_count": null,
   "metadata": {},
   "outputs": [],
   "source": [
    "df_help_max_kmeans = decisiontree_help.create_df('max', X_w, Y_w, df_original_w)\n",
    "cluster_methods.elbow_method(df_help_max_kmeans, 2, 10, \"kmeans\")"
   ]
  },
  {
   "cell_type": "code",
   "execution_count": null,
   "metadata": {},
   "outputs": [],
   "source": [
    "decisiontree_help.run_clusters_distribution('max', X_w, Y_w, df_original_w, 'kmeans', 3) "
   ]
  },
  {
   "attachments": {},
   "cell_type": "markdown",
   "metadata": {},
   "source": [
    "### Clustering 5 - Agglomerative clustering"
   ]
  },
  {
   "attachments": {},
   "cell_type": "markdown",
   "metadata": {},
   "source": [
    "#### depth = 8"
   ]
  },
  {
   "cell_type": "code",
   "execution_count": null,
   "metadata": {},
   "outputs": [],
   "source": [
    "df_help_8_agglo = decisiontree_help.create_df(4, X_w, Y_w, df_original_w)\n",
    "cluster_methods.elbow_method(df_help_8_agglo, 2, 20, \"agglo\")"
   ]
  },
  {
   "cell_type": "code",
   "execution_count": null,
   "metadata": {},
   "outputs": [],
   "source": [
    "decisiontree_help.run_clusters_distribution(4, X_w, Y_w, df_original_w, 'agglo', 8) "
   ]
  },
  {
   "attachments": {},
   "cell_type": "markdown",
   "metadata": {},
   "source": [
    "#### depth = max"
   ]
  },
  {
   "cell_type": "code",
   "execution_count": null,
   "metadata": {},
   "outputs": [],
   "source": [
    "df_help_max_agglo = decisiontree_help.create_df('max', X_w, Y_w, df_original_w)\n",
    "cluster_methods.elbow_method(df_help_max_agglo, 2, 20, \"agglo\")"
   ]
  },
  {
   "cell_type": "code",
   "execution_count": null,
   "metadata": {},
   "outputs": [],
   "source": [
    "decisiontree_help.run_clusters_distribution('max', X_w, Y_w, df_original_w, 'agglo', 7) "
   ]
  }
 ],
 "metadata": {
  "kernelspec": {
   "display_name": "sem-pro",
   "language": "python",
   "name": "python3"
  },
  "language_info": {
   "codemirror_mode": {
    "name": "ipython",
    "version": 3
   },
   "file_extension": ".py",
   "mimetype": "text/x-python",
   "name": "python",
   "nbconvert_exporter": "python",
   "pygments_lexer": "ipython3",
   "version": "3.10.8"
  },
  "orig_nbformat": 4,
  "vscode": {
   "interpreter": {
    "hash": "041b256c5c99f7718f2c855727968e49e7d3f10987ef9aa096be837926238695"
   }
  }
 },
 "nbformat": 4,
 "nbformat_minor": 2
}
